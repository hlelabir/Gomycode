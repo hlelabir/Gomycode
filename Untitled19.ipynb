{
  "nbformat": 4,
  "nbformat_minor": 0,
  "metadata": {
    "colab": {
      "provenance": [],
      "authorship_tag": "ABX9TyMuAfZbGnOIi0590N34WnHP",
      "include_colab_link": true
    },
    "kernelspec": {
      "name": "python3",
      "display_name": "Python 3"
    },
    "language_info": {
      "name": "python"
    }
  },
  "cells": [
    {
      "cell_type": "markdown",
      "metadata": {
        "id": "view-in-github",
        "colab_type": "text"
      },
      "source": [
        "<a href=\"https://colab.research.google.com/github/hlelabir/Gomycode/blob/main/Untitled19.ipynb\" target=\"_parent\"><img src=\"https://colab.research.google.com/assets/colab-badge.svg\" alt=\"Open In Colab\"/></a>"
      ]
    },
    {
      "cell_type": "code",
      "execution_count": null,
      "metadata": {
        "id": "5BCKTXrjyZmK"
      },
      "outputs": [],
      "source": [
        "name_file=input(\"enter the name of the text file\")\n",
        "file=open(\"{}.txt\".format(name_file))\n",
        "print(file.read())\n",
        "file.close()"
      ]
    },
    {
      "cell_type": "code",
      "source": [
        "name_file=input(\"enter the name of the text file\")\n",
        "file=open(\"{}.txt\".format(name_file))\n",
        "n=int(input(\"enter the number of first lines you want to read\"))\n",
        "l=file.readlines()\n",
        "for elt in l[0:n]:\n",
        "  print(elt, end=\" \")\n",
        "file.close()"
      ],
      "metadata": {
        "id": "UfSsfsAm46Y8"
      },
      "execution_count": null,
      "outputs": []
    },
    {
      "cell_type": "code",
      "source": [
        "name_file=input(\"enter the name of the text file\")\n",
        "file=open(\"{}.txt\".format(name_file))\n",
        "n=int(input(\"enter the number of last lines you want to read\"))\n",
        "l=file.readlines()\n",
        "for elt in l[-n: ]:\n",
        "  print(elt, end=\" \")\n",
        "file.close()"
      ],
      "metadata": {
        "id": "9fTKGoeW462Y"
      },
      "execution_count": null,
      "outputs": []
    },
    {
      "cell_type": "code",
      "source": [
        "name_file=input(\"enter the name of the text file\")\n",
        "file=open(\"{}.txt\".format(name_file))\n",
        "words =0\n",
        "for line in file:\n",
        "  l=line.split()\n",
        "  words += len(l)\n",
        "print(\"the number of words in this file : \", words)\n",
        "file.close()"
      ],
      "metadata": {
        "id": "2RWwQpis5A35"
      },
      "execution_count": null,
      "outputs": []
    }
  ]
}