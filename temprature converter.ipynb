{
 "cells": [
  {
   "cell_type": "code",
   "execution_count": 46,
   "id": "52a5fa1f",
   "metadata": {},
   "outputs": [],
   "source": [
    "import tkinter as tk\n",
    "window =tk.Tk()\n",
    "def fahrenheit_to_celsius():\n",
    "    f = ent_temperature.get()\n",
    "    c=(float(f) - 32)* 5/9\n",
    "    lbl_result[\"text\"] = f'{round(c,2)}\\N{DEGREE CELSIUS}'\n",
    "window.title(\"Temperature Converter\")\n",
    "window.geometry(\"500x500\")\n",
    "window.resizable(width=False, height=False)\n",
    "frm_entry = tk.Frame(master=window)\n",
    "frm_entry.grid(row=0, column=0, padx=10)\n",
    "ent_temperature = tk.Entry(master=frm_entry, width=10)\n",
    "lbl_temp = tk.Label(master=frm_entry, text=\"\\N{DEGREE FAHRENHEIT}\")\n",
    "ent_temperature.grid(row=0, column=0, sticky=\"e\")\n",
    "lbl_temp.grid(row=0, column=1, sticky=\"w\")\n",
    "btn_convert = tk.Button(master=window, text=\"\\N{RIGHTWARDS BLACK ARROW}\", command=fahrenheit_to_celsius)\n",
    "lbl_result = tk.Label(master=window, text=\"\\N{DEGREE CELSIUS}\") \n",
    "btn_convert.grid(row=0, column=1, pady=10)\n",
    "lbl_result.grid(row=0, column=2, padx=10)\n",
    "\n",
    "\n",
    "\n",
    "window.mainloop()\n"
   ]
  },
  {
   "cell_type": "code",
   "execution_count": null,
   "id": "1443f8de",
   "metadata": {},
   "outputs": [],
   "source": []
  },
  {
   "cell_type": "code",
   "execution_count": null,
   "id": "c6b46910",
   "metadata": {},
   "outputs": [],
   "source": []
  }
 ],
 "metadata": {
  "kernelspec": {
   "display_name": "Python 3 (ipykernel)",
   "language": "python",
   "name": "python3"
  },
  "language_info": {
   "codemirror_mode": {
    "name": "ipython",
    "version": 3
   },
   "file_extension": ".py",
   "mimetype": "text/x-python",
   "name": "python",
   "nbconvert_exporter": "python",
   "pygments_lexer": "ipython3",
   "version": "3.11.3"
  }
 },
 "nbformat": 4,
 "nbformat_minor": 5
}
