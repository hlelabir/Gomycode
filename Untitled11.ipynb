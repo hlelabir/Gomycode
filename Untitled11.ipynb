{
  "nbformat": 4,
  "nbformat_minor": 0,
  "metadata": {
    "colab": {
      "provenance": [],
      "authorship_tag": "ABX9TyNLGYmLaxMtKAu7opuRjs2e",
      "include_colab_link": true
    },
    "kernelspec": {
      "name": "python3",
      "display_name": "Python 3"
    },
    "language_info": {
      "name": "python"
    }
  },
  "cells": [
    {
      "cell_type": "markdown",
      "metadata": {
        "id": "view-in-github",
        "colab_type": "text"
      },
      "source": [
        "<a href=\"https://colab.research.google.com/github/hlelabir/Gomycode/blob/main/Untitled11.ipynb\" target=\"_parent\"><img src=\"https://colab.research.google.com/assets/colab-badge.svg\" alt=\"Open In Colab\"/></a>"
      ]
    },
    {
      "cell_type": "code",
      "execution_count": 3,
      "metadata": {
        "colab": {
          "base_uri": "https://localhost:8080/"
        },
        "id": "Lk7X3hUyNaMM",
        "outputId": "19e364dd-8449-4827-a93a-1cd34b3ebf56"
      },
      "outputs": [
        {
          "output_type": "stream",
          "name": "stdout",
          "text": [
            "(1,2,3)\n"
          ]
        }
      ],
      "source": [
        "class point3D:\n",
        "  def __init__(self, x, y, z):\n",
        "    self.x=x\n",
        "    self.y=y\n",
        "    self.z=z\n",
        "  def form(self):\n",
        "    return \"({},{},{})\".format(self.x,self.y,self.z)\n",
        "my_point=point3D(1, 2, 3)\n",
        "print(my_point.form())"
      ]
    },
    {
      "cell_type": "code",
      "source": [
        "class Rectangle:\n",
        "  def __init__(self, length, width):\n",
        "    self.length=length\n",
        "    self.width=width\n",
        "  def perimeter(self):\n",
        "    return 2*(self.length + self.width)\n",
        "  def area(self):\n",
        "    return self.length * self.width\n",
        "my_rectangle=Rectangle(4,3)\n",
        "print(my_rectangle.perimeter())\n",
        "print(my_rectangle.area())\n",
        "\n",
        "\n"
      ],
      "metadata": {
        "colab": {
          "base_uri": "https://localhost:8080/"
        },
        "id": "KDPEOvOgZTiW",
        "outputId": "a667264f-9548-4247-9ce1-1528ddea858b"
      },
      "execution_count": 4,
      "outputs": [
        {
          "output_type": "stream",
          "name": "stdout",
          "text": [
            "14\n",
            "12\n"
          ]
        }
      ]
    },
    {
      "cell_type": "code",
      "source": [
        "class Circle:\n",
        "  def __init__(self, r):\n",
        "    self.radius=r\n",
        "  def perimeter(self):\n",
        "    return 2* self.radius *3.14\n",
        "  def area(self):\n",
        "    return self.radius**2*3.14\n",
        "  def is_inside(self, x, y):\n",
        "    if (x**2 + y**2)== self.radius**2:\n",
        "      return \"this point is in the circle \"\n",
        "    else:\n",
        "      return \"this point is not in the circle\"\n",
        "my_circle=Circle(3)\n",
        "print(my_circle.perimeter())\n",
        "print(my_circle.area())\n",
        "print(my_circle.is_inside(2,1))\n",
        "\n",
        "\n",
        "\n"
      ],
      "metadata": {
        "colab": {
          "base_uri": "https://localhost:8080/"
        },
        "id": "u4CrgoPwbIYz",
        "outputId": "092760b4-d170-4066-80f2-45a3b98f96a6"
      },
      "execution_count": 11,
      "outputs": [
        {
          "output_type": "stream",
          "name": "stdout",
          "text": [
            "18.84\n",
            "28.26\n",
            "this point is not in the circle\n"
          ]
        }
      ]
    },
    {
      "cell_type": "code",
      "source": [
        "class Bank:\n",
        "  def __init__(self):\n",
        "    self.balance=0\n",
        "  def deposit(self):\n",
        "    amount=float(input(\"enter the amount of money to deposit\"))\n",
        "    self.balance=self.balance + amount\n",
        "    return self.balance , amount\n",
        "  def withdraw(self):\n",
        "    amount=float(input(\"enter the amount of money to withdraw\"))\n",
        "    if  amount <= self.balance  :\n",
        "      self.balance -= amount\n",
        "      return self.balance , amount\n",
        "    else:\n",
        "      print(\"Sorry ! you can't withdraw\")\n",
        "my_account=Bank()\n",
        "print(my_account.deposit())\n",
        "print(my_account.withdraw())"
      ],
      "metadata": {
        "colab": {
          "base_uri": "https://localhost:8080/"
        },
        "id": "wIz0pT83lLQy",
        "outputId": "f8029278-e26b-40c8-99e4-4d026e9d7b37"
      },
      "execution_count": 14,
      "outputs": [
        {
          "output_type": "stream",
          "name": "stdout",
          "text": [
            "enter the amount of money to deposit200\n",
            "(200.0, 200.0)\n",
            "enter the amount of money to withdraw50\n",
            "(150.0, 50.0)\n"
          ]
        }
      ]
    }
  ]
}