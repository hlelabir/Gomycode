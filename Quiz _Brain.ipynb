{
 "cells": [
  {
   "cell_type": "code",
   "execution_count": null,
   "id": "16e3ab98",
   "metadata": {},
   "outputs": [],
   "source": [
    "class QuizBrain:\n",
    "\n",
    "    def __init__(self, questions):\n",
    "        self.question_no = 0\n",
    "        self.score = 0\n",
    "        self.questions = questions\n",
    "        self.current_question = None\n",
    "\n",
    "    def has_more_questions(self):\n",
    "        \"\"\"To check if the quiz has more questions\"\"\"\n",
    "        \n",
    "        return self.question_no < len(self.questions)\n",
    "\n",
    "    def next_question(self):\n",
    "        \"\"\"Get the next question by incrementing the question number\"\"\"\n",
    "        \n",
    "        self.current_question = self.questions[self.question_no]\n",
    "        self.question_no += 1\n",
    "        q_text = self.current_question.question_text\n",
    "        return f\"Q.{self.question_no}: {q_text}\"\n",
    "\n",
    "    def check_answer(self, user_answer):\n",
    "        \"\"\"Check the user answer against the correct answer and maintain the score\"\"\"\n",
    "        \n",
    "        correct_answer = self.current_question.correct_answer\n",
    "        if user_answer.lower() == correct_answer.lower():\n",
    "            self.score += 1\n",
    "            return True\n",
    "        else:\n",
    "            return False\n",
    "\n",
    "    def get_score(self):\n",
    "        \"\"\"Get the number of correct answers, wrong answers and score percentage.\"\"\"\n",
    "        \n",
    "        wrong = self.question_no - self.score\n",
    "        score_percent = int(self.score / self.question_no * 100)\n",
    "        return (self.score, wrong, score_percent)"
   ]
  }
 ],
 "metadata": {
  "kernelspec": {
   "display_name": "Python 3 (ipykernel)",
   "language": "python",
   "name": "python3"
  },
  "language_info": {
   "codemirror_mode": {
    "name": "ipython",
    "version": 3
   },
   "file_extension": ".py",
   "mimetype": "text/x-python",
   "name": "python",
   "nbconvert_exporter": "python",
   "pygments_lexer": "ipython3",
   "version": "3.11.3"
  }
 },
 "nbformat": 4,
 "nbformat_minor": 5
}
