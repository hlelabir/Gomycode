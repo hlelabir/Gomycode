{
  "nbformat": 4,
  "nbformat_minor": 0,
  "metadata": {
    "colab": {
      "provenance": [],
      "authorship_tag": "ABX9TyNPMhosHtOvjmvd648kipyE",
      "include_colab_link": true
    },
    "kernelspec": {
      "name": "python3",
      "display_name": "Python 3"
    },
    "language_info": {
      "name": "python"
    }
  },
  "cells": [
    {
      "cell_type": "markdown",
      "metadata": {
        "id": "view-in-github",
        "colab_type": "text"
      },
      "source": [
        "<a href=\"https://colab.research.google.com/github/hlelabir/Gomycode/blob/main/Untitled7.ipynb\" target=\"_parent\"><img src=\"https://colab.research.google.com/assets/colab-badge.svg\" alt=\"Open In Colab\"/></a>"
      ]
    },
    {
      "cell_type": "code",
      "execution_count": 6,
      "metadata": {
        "colab": {
          "base_uri": "https://localhost:8080/"
        },
        "id": "HKAjx-HXSMho",
        "outputId": "b241bd6a-15d9-4119-a1a9-6f4471c5926b"
      },
      "outputs": [
        {
          "output_type": "stream",
          "name": "stdout",
          "text": [
            "enter your operator*\n",
            "6\n"
          ]
        }
      ],
      "source": [
        "def calculator(num1,num2):\n",
        "  operator=input(\"enter your operator\")\n",
        "  if operator == \"+\":\n",
        "    print(num1+num2)\n",
        "  elif operator == \"-\":\n",
        "    print(num1-num2)\n",
        "  elif operator == \"*\":\n",
        "    print(num1*num2)\n",
        "  elif operator == \"/\":\n",
        "    if num2==0:\n",
        "      print(\"division with / impossible, please try again\")\n",
        "    else:\n",
        "      print(num1/num2)\n",
        "  else:\n",
        "    operator=input(\"operator is invalid,enter your operator again\")\n",
        "\n",
        "calculator(2,3)\n",
        "\n",
        "\n",
        ""
      ]
    }
  ]
}