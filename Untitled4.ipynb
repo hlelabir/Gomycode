{
  "nbformat": 4,
  "nbformat_minor": 0,
  "metadata": {
    "colab": {
      "provenance": [],
      "authorship_tag": "ABX9TyOVPnPryv/X0AyIjblXBum1",
      "include_colab_link": true
    },
    "kernelspec": {
      "name": "python3",
      "display_name": "Python 3"
    },
    "language_info": {
      "name": "python"
    }
  },
  "cells": [
    {
      "cell_type": "markdown",
      "metadata": {
        "id": "view-in-github",
        "colab_type": "text"
      },
      "source": [
        "<a href=\"https://colab.research.google.com/github/hlelabir/Gomycode/blob/main/Untitled4.ipynb\" target=\"_parent\"><img src=\"https://colab.research.google.com/assets/colab-badge.svg\" alt=\"Open In Colab\"/></a>"
      ]
    },
    {
      "cell_type": "code",
      "execution_count": 18,
      "metadata": {
        "colab": {
          "base_uri": "https://localhost:8080/"
        },
        "id": "VaSpqWp0DBjX",
        "outputId": "1c1fbc37-74b8-48b0-9229-1f208f49efcc"
      },
      "outputs": [
        {
          "output_type": "stream",
          "name": "stdout",
          "text": [
            "36\n"
          ]
        }
      ],
      "source": [
        "l=[2,3,6]\n",
        "result=1\n",
        "for elt in l :\n",
        "  result=result*elt\n",
        "print(result)"
      ]
    },
    {
      "cell_type": "code",
      "source": [
        "l=[(2,5),(1,2),(4,4),(2,3),(2,1)]\n",
        "l1=l.copy()\n",
        "for i in range (len(l1)):\n",
        "  l1[i]=l1[i][::-1]\n",
        "print(l1)\n",
        "l1.sort()\n",
        "print(l1)"
      ],
      "metadata": {
        "colab": {
          "base_uri": "https://localhost:8080/"
        },
        "id": "tfBbrXu3Dxgz",
        "outputId": "46dab518-e360-41da-9f03-3cfb329baf27"
      },
      "execution_count": 5,
      "outputs": [
        {
          "output_type": "stream",
          "name": "stdout",
          "text": [
            "[(5, 2), (2, 1), (4, 4), (3, 2), (1, 2)]\n",
            "[(1, 2), (2, 1), (3, 2), (4, 4), (5, 2)]\n"
          ]
        }
      ]
    },
    {
      "cell_type": "code",
      "source": [
        "d1={'a':100,'b':200,'c':300}\n",
        "d2={'a':300,'b':200,'d':400}\n",
        "d={}\n",
        "for i in d1.keys():\n",
        "  if i in d2.keys():\n",
        "    d[i]=d1[i]+d2[i]\n",
        "  else:\n",
        "    d[i]=d1[i]\n",
        "for i in d2.keys():\n",
        "  if i not in d1.keys():\n",
        "    d[i]=d2[i]\n",
        "print(d)\n",
        "\n"
      ],
      "metadata": {
        "colab": {
          "base_uri": "https://localhost:8080/"
        },
        "id": "b-jBmCVpumXg",
        "outputId": "282724e9-4037-4b0f-a1d4-7e81eb4ffc56"
      },
      "execution_count": 7,
      "outputs": [
        {
          "output_type": "stream",
          "name": "stdout",
          "text": [
            "{'a': 400, 'b': 400, 'c': 300, 'd': 400}\n"
          ]
        }
      ]
    },
    {
      "cell_type": "code",
      "source": [
        "n=8\n",
        "d={}\n",
        "for i in range (1,n+1):\n",
        "  d[i]=i*i\n",
        "print(d)\n"
      ],
      "metadata": {
        "colab": {
          "base_uri": "https://localhost:8080/"
        },
        "id": "Fg-lj1j2zjiX",
        "outputId": "bfeb2be5-58d3-4bd2-8ae9-5f4461fed8eb"
      },
      "execution_count": 8,
      "outputs": [
        {
          "output_type": "stream",
          "name": "stdout",
          "text": [
            "{1: 1, 2: 4, 3: 9, 4: 16, 5: 25, 6: 36, 7: 49, 8: 64}\n"
          ]
        }
      ]
    },
    {
      "cell_type": "code",
      "source": [
        "from IPython.core.interactiveshell import ListType\n",
        "from sys import float_info\n",
        "l=[('item1','12.20'),('item2','15.10'),('item3','24.5')]\n",
        "for i in range (len(l)):\n",
        "  l[i]=l[i][::-1]\n",
        "print(l)\n",
        "l1=[]\n",
        "for i in range (len(l)):\n",
        "  l1.append(list(l[i]))\n",
        "print(l1)\n",
        "for i in range (len(l1)):\n",
        "  l1[i][0]=float(l1[i][0])\n",
        "print(l1)\n",
        "l1.sort(reverse=True)\n",
        "print(l1)\n",
        "for i in range (len(l1)):\n",
        "  l1[i][0]=str(l1[i][0])\n",
        "l2=[]\n",
        "for i in range (len(l)):\n",
        "  l2.append(tuple(l1[i]))\n",
        "l2\n",
        "\n",
        "\n",
        "\n",
        "\n",
        "\n"
      ],
      "metadata": {
        "colab": {
          "base_uri": "https://localhost:8080/"
        },
        "id": "jRlkyzDv2Ozb",
        "outputId": "7f6da234-3862-472f-e953-98574c12d72a"
      },
      "execution_count": 12,
      "outputs": [
        {
          "output_type": "stream",
          "name": "stdout",
          "text": [
            "[('12.20', 'item1'), ('15.10', 'item2'), ('24.5', 'item3')]\n",
            "[['12.20', 'item1'], ['15.10', 'item2'], ['24.5', 'item3']]\n",
            "[[12.2, 'item1'], [15.1, 'item2'], [24.5, 'item3']]\n",
            "[[24.5, 'item3'], [15.1, 'item2'], [12.2, 'item1']]\n"
          ]
        },
        {
          "output_type": "execute_result",
          "data": {
            "text/plain": [
              "[('24.5', 'item3'), ('15.1', 'item2'), ('12.2', 'item1')]"
            ]
          },
          "metadata": {},
          "execution_count": 12
        }
      ]
    },
    {
      "cell_type": "code",
      "source": [
        "s=set(\"Gomycode\")\n",
        "print(s)\n",
        "for elt in s:\n",
        "  print(elt)\n",
        "s.add(5)\n",
        "print(s)\n",
        "s.remove('G')\n",
        "print(s)"
      ],
      "metadata": {
        "id": "jn-aybPK37NQ",
        "outputId": "e42a2a63-495b-423e-997c-54d5cc289730",
        "colab": {
          "base_uri": "https://localhost:8080/"
        }
      },
      "execution_count": 17,
      "outputs": [
        {
          "output_type": "stream",
          "name": "stdout",
          "text": [
            "{'d', 'm', 'e', 'G', 'o', 'y', 'c'}\n",
            "d\n",
            "m\n",
            "e\n",
            "G\n",
            "o\n",
            "y\n",
            "c\n",
            "{5, 'd', 'm', 'e', 'G', 'o', 'y', 'c'}\n",
            "{5, 'd', 'm', 'e', 'o', 'y', 'c'}\n"
          ]
        }
      ]
    }
  ]
}