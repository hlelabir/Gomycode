{
  "nbformat": 4,
  "nbformat_minor": 0,
  "metadata": {
    "colab": {
      "provenance": [],
      "authorship_tag": "ABX9TyO6YcB6P2jcxePpriHWcab1",
      "include_colab_link": true
    },
    "kernelspec": {
      "name": "python3",
      "display_name": "Python 3"
    },
    "language_info": {
      "name": "python"
    }
  },
  "cells": [
    {
      "cell_type": "markdown",
      "metadata": {
        "id": "view-in-github",
        "colab_type": "text"
      },
      "source": [
        "<a href=\"https://colab.research.google.com/github/hlelabir/Gomycode/blob/main/Untitled20.ipynb\" target=\"_parent\"><img src=\"https://colab.research.google.com/assets/colab-badge.svg\" alt=\"Open In Colab\"/></a>"
      ]
    },
    {
      "cell_type": "code",
      "execution_count": 3,
      "metadata": {
        "colab": {
          "base_uri": "https://localhost:8080/",
          "height": 87
        },
        "id": "QgspDrBEIR3F",
        "outputId": "dd826ab2-231d-4869-a531-298f753dfb82"
      },
      "outputs": [
        {
          "output_type": "stream",
          "name": "stdout",
          "text": [
            "2\n",
            "3\n",
            "4\n"
          ]
        },
        {
          "output_type": "execute_result",
          "data": {
            "text/plain": [
              "'k is not found so False '"
            ],
            "application/vnd.google.colaboratory.intrinsic+json": {
              "type": "string"
            }
          },
          "metadata": {},
          "execution_count": 3
        }
      ],
      "source": [
        "def binary_search(A, l, h, k):\n",
        "    if h >= l:\n",
        "        mid = int(l + (h - l)/2)\n",
        "        print(mid)\n",
        "        if A[mid] == k:\n",
        "            return 'k is found so True'\n",
        "        elif A[mid] > k:\n",
        "            return binary_search(A, l, mid-1, k)\n",
        "        else:\n",
        "            return binary_search(A, mid+1, h, k)\n",
        "    else:\n",
        "        return 'k is not found so False '\n",
        "\n",
        "A=[1, 2, 3, 5, 8]\n",
        "k=6;l=0; h=len(A)-1;\n",
        "binary_search(A, l, h, k)\n"
      ]
    },
    {
      "cell_type": "code",
      "source": [
        "def power(a,b):\n",
        "  return a**b\n",
        "a=int(input(\"enter the a value\"))\n",
        "b=int(input(\"enter the b value\"))\n",
        "result=power(a,b)\n",
        "print(result)"
      ],
      "metadata": {
        "colab": {
          "base_uri": "https://localhost:8080/"
        },
        "id": "QuGw7JcOJXve",
        "outputId": "770b0fb8-5daa-4e3b-82cc-515597d81cac"
      },
      "execution_count": 4,
      "outputs": [
        {
          "output_type": "stream",
          "name": "stdout",
          "text": [
            "enter the a value3\n",
            "enter the b value4\n",
            "81\n"
          ]
        }
      ]
    },
    {
      "cell_type": "code",
      "source": [
        "def bubbleSort(nlist):\n",
        "    for passnum in range(len(nlist)-1,0,-1):\n",
        "        for i in range(passnum):\n",
        "            if nlist[i]>nlist[i+1]:\n",
        "                temp = nlist[i]\n",
        "                nlist[i] = nlist[i+1]\n",
        "                nlist[i+1] = temp\n",
        "    return nlist\n",
        "\n",
        "nlist = [29,13,22,37,52,49,46,71,56]\n",
        "bubbleSort(nlist)\n"
      ],
      "metadata": {
        "colab": {
          "base_uri": "https://localhost:8080/"
        },
        "id": "bKZLQqZOJ8aR",
        "outputId": "c2a61e56-8762-4c72-cad5-68f86f3bcc5a"
      },
      "execution_count": 5,
      "outputs": [
        {
          "output_type": "execute_result",
          "data": {
            "text/plain": [
              "[13, 22, 29, 37, 46, 49, 52, 56, 71]"
            ]
          },
          "metadata": {},
          "execution_count": 5
        }
      ]
    },
    {
      "cell_type": "code",
      "source": [
        "def mergeSort(myList):\n",
        "    if len(myList) > 1:\n",
        "        mid = len(myList) // 2\n",
        "        left = myList[:mid]\n",
        "        right = myList[mid:]\n",
        "\n",
        "        # Recursive call on each half\n",
        "        mergeSort(left)\n",
        "        mergeSort(right)\n",
        "\n",
        "        # Two iterators for traversing the two halves\n",
        "        i = 0\n",
        "        j = 0\n",
        "\n",
        "        # Iterator for the main list\n",
        "        k = 0\n",
        "\n",
        "        while i < len(left) and j < len(right):\n",
        "            if left[i] < right[j]:\n",
        "              # The value from the left half has been used\n",
        "              myList[k] = left[i]\n",
        "              # Move the iterator forward\n",
        "              i += 1\n",
        "            else:\n",
        "                myList[k] = right[j]\n",
        "                j += 1\n",
        "            # Move to the next slot\n",
        "            k += 1\n",
        "\n",
        "        # For all the remaining values\n",
        "        while i < len(left):\n",
        "            myList[k] = left[i]\n",
        "            i += 1\n",
        "            k += 1\n",
        "\n",
        "        while j < len(right):\n",
        "            myList[k]=right[j]\n",
        "            j += 1\n",
        "            k += 1\n",
        "\n",
        "myList = [29,13,22,37,52,49,46,71,56]\n",
        "mergeSort(myList)\n",
        "print(myList)\n"
      ],
      "metadata": {
        "colab": {
          "base_uri": "https://localhost:8080/"
        },
        "id": "jIiFwQCkKy51",
        "outputId": "7d61d77a-c1f0-488d-f591-1b0b36bcfc8d"
      },
      "execution_count": 6,
      "outputs": [
        {
          "output_type": "stream",
          "name": "stdout",
          "text": [
            "[13, 22, 29, 37, 46, 49, 52, 56, 71]\n"
          ]
        }
      ]
    },
    {
      "cell_type": "code",
      "source": [
        "def partition(array, start, end):\n",
        "    pivot = array[start]\n",
        "    low = start + 1\n",
        "    high = end\n",
        "    while True:\n",
        "        while low <= high and array[high] >= pivot:\n",
        "            high = high - 1\n",
        "\n",
        "        while low <= high and array[low] <= pivot:\n",
        "            low = low + 1\n",
        "        if low <= high:\n",
        "            array[low], array[high] = array[high], array[low]\n",
        "        else:\n",
        "          break\n",
        "\n",
        "    array[start], array[high] = array[high], array[start]\n",
        "\n",
        "    return high\n",
        "def quick_sort(array, start, end):\n",
        "    if start >= end:\n",
        "        return\n",
        "\n",
        "    p = partition(array, start, end)\n",
        "    quick_sort(array, start, p-1)\n",
        "    quick_sort(array, p+1, end)\n",
        "array = [29,13,22,37,52,49,46,71,56]\n",
        "quick_sort(array, 0, len(array) - 1)\n",
        "print(array)\n",
        "\n"
      ],
      "metadata": {
        "colab": {
          "base_uri": "https://localhost:8080/"
        },
        "id": "Z56t1rzpLHQl",
        "outputId": "3150717c-04fa-4210-98f1-5a9b47986c26"
      },
      "execution_count": 8,
      "outputs": [
        {
          "output_type": "stream",
          "name": "stdout",
          "text": [
            "[13, 22, 29, 37, 46, 49, 52, 56, 71]\n"
          ]
        }
      ]
    }
  ]
}