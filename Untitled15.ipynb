{
  "nbformat": 4,
  "nbformat_minor": 0,
  "metadata": {
    "colab": {
      "provenance": [],
      "authorship_tag": "ABX9TyObIqVWerX4DqJgo/pAJI06",
      "include_colab_link": true
    },
    "kernelspec": {
      "name": "python3",
      "display_name": "Python 3"
    },
    "language_info": {
      "name": "python"
    }
  },
  "cells": [
    {
      "cell_type": "markdown",
      "metadata": {
        "id": "view-in-github",
        "colab_type": "text"
      },
      "source": [
        "<a href=\"https://colab.research.google.com/github/hlelabir/Gomycode/blob/main/Untitled15.ipynb\" target=\"_parent\"><img src=\"https://colab.research.google.com/assets/colab-badge.svg\" alt=\"Open In Colab\"/></a>"
      ]
    },
    {
      "cell_type": "code",
      "execution_count": 1,
      "metadata": {
        "colab": {
          "base_uri": "https://localhost:8080/"
        },
        "id": "6FmjRcsi4YbE",
        "outputId": "36eb8731-aaae-42ef-9fd2-e99d0b760d9a"
      },
      "outputs": [
        {
          "output_type": "stream",
          "name": "stdout",
          "text": [
            "Search: covid 19\n",
            "Other names  ::  COVID, (the) coronavirus\n",
            "---------------------\n",
            "Pronunciation  ::  /kəˈroʊnəvaɪrəs//ˌkoʊvɪdnaɪnˈtiːn, ˌkɒvɪd-/[1] \n",
            "---------------------\n",
            "Specialty  ::  Infectious disease\n",
            "---------------------\n",
            "Symptoms  ::  Fever, cough, fatigue, shortness of breath, vomiting, loss of taste or smell; some cases asymptomatic[2][3]\n",
            "---------------------\n",
            "Complications  ::  Pneumonia, sepsis, ARDS, kidney failure, respiratory failure, pulmonary fibrosis, CKS, MIS-C, long COVID\n",
            "---------------------\n",
            "Usual onset  ::  2–14 days (typically 5)  after infection\n",
            "---------------------\n",
            "Duration  ::  5 days to chronic\n",
            "---------------------\n",
            "Causes  ::  SARS-CoV-2\n",
            "---------------------\n",
            "Diagnostic method  ::  RT‑PCR testing, CT scan, rapid antigen test\n",
            "---------------------\n",
            "Prevention  ::  Vaccination, face coverings, quarantine, social distancing, ventilation, hand washing\n",
            "---------------------\n",
            "Treatment  ::  Symptomatic and supportive\n",
            "---------------------\n",
            "Frequency  ::  676,609,955[4] cases\n",
            "---------------------\n",
            "Deaths  ::  6,881,955[4]\n",
            "---------------------\n",
            "Coronavirus disease 2019 (COVID-19) is a contagious disease caused by the virus severe acute respiratory syndrome coronavirus 2 (SARS-CoV-2). The first known case was identified in Wuhan, China, in December 2019.[5] The disease quickly spread worldwide, resulting in the COVID-19 pandemic.\n",
            "\n",
            "The symptoms of COVID‑19 are variable but often include fever,[6] cough, headache,[7] fatigue, breathing difficulties, loss of smell, and loss of taste.[8][9][10] Symptoms may begin one to fourteen days after exposure to the virus. At least a third of people who are infected do not develop noticeable symptoms.[11] Of those who develop symptoms noticeable enough to be classified as patients, most (81%) develop mild to moderate symptoms (up to mild pneumonia), while 14% develop severe symptoms (dyspnea, hypoxia, or more than 50% lung involvement on imaging), and 5% develop critical symptoms (respiratory failure, shock, or multiorgan dysfunction).[12] Older people are at a higher risk of developing severe symptoms. Some people continue to experience a range of effects (long COVID) for years after infection, and damage to organs has been observed.[13] Multi-year studies are underway to further investigate the long-term effects of the disease.[14]\n",
            "\n"
          ]
        }
      ],
      "source": [
        "import requests\n",
        "import string\n",
        "from bs4 import BeautifulSoup\n",
        "\n",
        "\n",
        "\n",
        "Enter_input = input(\"Search: \")\n",
        "u_i = string.capwords(Enter_input)\n",
        "lists = u_i.split()\n",
        "word = \"_\".join(lists)\n",
        "\n",
        "\n",
        "url = \"https://en.wikipedia.org/wiki/\"+word\n",
        "\n",
        "def wikibot(url):\n",
        "  url_open=requests.get(url)\n",
        "  soup = BeautifulSoup(url_open.content,'html.parser')\n",
        "  details = soup('table',{'class':'infobox'})\n",
        "  for i in details:\n",
        "    h =i.find_all('tr')\n",
        "    for j in h:\n",
        "      heading =j.find_all('th')\n",
        "      detail =j.find_all('td')\n",
        "      if heading is not None and detail is not None:\n",
        "        for x,y in zip(heading,detail):\n",
        "          print(\"{}  ::  {}\".format(x.text,y.text))\n",
        "          print(\"---------------------\")\n",
        "  for i in range(1,3):\n",
        "    print(soup('p')[i].text)\n",
        "wikibot(url)\n",
        "\n"
      ]
    }
  ]
}