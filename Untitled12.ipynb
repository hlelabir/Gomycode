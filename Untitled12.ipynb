{
  "nbformat": 4,
  "nbformat_minor": 0,
  "metadata": {
    "colab": {
      "provenance": [],
      "authorship_tag": "ABX9TyMqWE5sObYZUP+0ciRlVz3y",
      "include_colab_link": true
    },
    "kernelspec": {
      "name": "python3",
      "display_name": "Python 3"
    },
    "language_info": {
      "name": "python"
    }
  },
  "cells": [
    {
      "cell_type": "markdown",
      "metadata": {
        "id": "view-in-github",
        "colab_type": "text"
      },
      "source": [
        "<a href=\"https://colab.research.google.com/github/hlelabir/Gomycode/blob/main/Untitled12.ipynb\" target=\"_parent\"><img src=\"https://colab.research.google.com/assets/colab-badge.svg\" alt=\"Open In Colab\"/></a>"
      ]
    },
    {
      "cell_type": "code",
      "execution_count": 9,
      "metadata": {
        "colab": {
          "base_uri": "https://localhost:8080/"
        },
        "id": "i6O-Nht-X0sO",
        "outputId": "55107229-fcab-4b4a-dc24-4ddf60a7e14d"
      },
      "outputs": [
        {
          "output_type": "stream",
          "name": "stdout",
          "text": [
            "enter the number of students2\n",
            "enter the number of subjects2\n",
            "enter the mark of subject0 for the student050\n",
            "enter the mark of subject1 for the student090\n",
            "enter the mark of subject0 for the student130\n",
            "enter the mark of subject1 for the student140\n",
            "l= [140.0, 70.0]\n",
            "l1= [70.0, 35.0]\n",
            "student num0 : total mark =140.0 , percentage = 70.0% , grade = B+\n",
            "student num1 : total mark =70.0 , percentage = 35.0% , grade = F\n"
          ]
        }
      ],
      "source": [
        "import numpy as np\n",
        "num_students=int(input(\"enter the number of students\"))\n",
        "num_subjects=int(input(\"enter the number of subjects\"))\n",
        "t=np.zeros((num_students,num_subjects))\n",
        "for i in range(num_students):\n",
        "  for j in range(num_subjects):\n",
        "    t[i][j]=float(input(\"enter the mark of subject{} for the student{}\".format(j,i)))\n",
        "l=[]\n",
        "for i in range(num_students):\n",
        "  l.append(sum(t[i,:]))\n",
        "print(\"l=\",l)\n",
        "l1=[]\n",
        "for i in range(len(l)):\n",
        "  l1.append((l[i]/ (num_subjects*100))*100)\n",
        "print(\"l1=\",l1)\n",
        "l2=[]\n",
        "for p in l1:\n",
        "  if 90 <= p :\n",
        "    l2.append(\"A+\")\n",
        "  elif 80 <= p:\n",
        "    l2.append(\"A\")\n",
        "  elif 70 <= p:\n",
        "    l2.append(\"B+\")\n",
        "  elif 60 <= p:\n",
        "    l2.append(\"B\")\n",
        "  elif 50 <= p:\n",
        "    l2.append(\"C\")\n",
        "  else:\n",
        "    l2.append(\"F\")\n",
        "for i in range(num_students):\n",
        "  print(\"student num{} : total mark ={} , percentage = {}% , grade = {}\".format(i,l[i],l1[i],l2[i]))\n",
        "\n",
        "\n",
        "\n",
        "\n"
      ]
    }
  ]
}