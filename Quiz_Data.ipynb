{
 "cells": [
  {
   "cell_type": "code",
   "execution_count": 1,
   "id": "32f8364a",
   "metadata": {},
   "outputs": [
    {
     "data": {
      "text/plain": [
       "\"\\nSample Response\\n\\n[\\n    {\\n        'category': 'Sports', \\n        'type': 'multiple', \\n        'difficulty': 'medium', \\n        'question': 'Which Formula One driver was nicknamed &#039;The Professor&#039;?',\\n        'correct_answer': 'Alain Prost', \\n        'incorrect_answers': [\\n            'Ayrton Senna', \\n            'Niki Lauda', \\n            'Emerson Fittipaldi'\\n            ]\\n    }, \\n    {\\n        'category': 'Entertainment: Music', \\n        'type': 'multiple', \\n        'difficulty': 'medium', \\n        'question': 'In which city did American rap producer DJ Khaled originate from?',\\n        'correct_answer': 'Miami', \\n        'incorrect_answers': [\\n            'New York', \\n            'Detroit', \\n            'Atlanta'\\n            ]\\n        }\\n]\\n\""
      ]
     },
     "execution_count": 1,
     "metadata": {},
     "output_type": "execute_result"
    }
   ],
   "source": [
    "import requests\n",
    "\n",
    "parameters = {\n",
    "    \"amount\": 10,\n",
    "    \"type\": \"multiple\"\n",
    "}\n",
    "\n",
    "response = requests.get(url=\"https://opentdb.com/api.php\", params=parameters)\n",
    "question_data = response.json()[\"results\"]\n",
    "\n",
    "\n",
    "\"\"\"\n",
    "Sample Response\n",
    "\n",
    "[\n",
    "    {\n",
    "        'category': 'Sports', \n",
    "        'type': 'multiple', \n",
    "        'difficulty': 'medium', \n",
    "        'question': 'Which Formula One driver was nicknamed &#039;The Professor&#039;?',\n",
    "        'correct_answer': 'Alain Prost', \n",
    "        'incorrect_answers': [\n",
    "            'Ayrton Senna', \n",
    "            'Niki Lauda', \n",
    "            'Emerson Fittipaldi'\n",
    "            ]\n",
    "    }, \n",
    "    {\n",
    "        'category': 'Entertainment: Music', \n",
    "        'type': 'multiple', \n",
    "        'difficulty': 'medium', \n",
    "        'question': 'In which city did American rap producer DJ Khaled originate from?',\n",
    "        'correct_answer': 'Miami', \n",
    "        'incorrect_answers': [\n",
    "            'New York', \n",
    "            'Detroit', \n",
    "            'Atlanta'\n",
    "            ]\n",
    "        }\n",
    "]\n",
    "\"\"\""
   ]
  },
  {
   "cell_type": "code",
   "execution_count": null,
   "id": "d9ae0c97",
   "metadata": {},
   "outputs": [],
   "source": []
  }
 ],
 "metadata": {
  "kernelspec": {
   "display_name": "Python 3 (ipykernel)",
   "language": "python",
   "name": "python3"
  },
  "language_info": {
   "codemirror_mode": {
    "name": "ipython",
    "version": 3
   },
   "file_extension": ".py",
   "mimetype": "text/x-python",
   "name": "python",
   "nbconvert_exporter": "python",
   "pygments_lexer": "ipython3",
   "version": "3.11.3"
  }
 },
 "nbformat": 4,
 "nbformat_minor": 5
}
