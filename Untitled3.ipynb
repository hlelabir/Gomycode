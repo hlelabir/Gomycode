{
  "nbformat": 4,
  "nbformat_minor": 0,
  "metadata": {
    "colab": {
      "provenance": [],
      "authorship_tag": "ABX9TyMROJbBDCtOfCTRMyI+LSNs",
      "include_colab_link": true
    },
    "kernelspec": {
      "name": "python3",
      "display_name": "Python 3"
    },
    "language_info": {
      "name": "python"
    }
  },
  "cells": [
    {
      "cell_type": "markdown",
      "metadata": {
        "id": "view-in-github",
        "colab_type": "text"
      },
      "source": [
        "<a href=\"https://colab.research.google.com/github/hlelabir/Gomycode/blob/main/Untitled3.ipynb\" target=\"_parent\"><img src=\"https://colab.research.google.com/assets/colab-badge.svg\" alt=\"Open In Colab\"/></a>"
      ]
    },
    {
      "cell_type": "code",
      "execution_count": null,
      "metadata": {
        "id": "cDSdd3LbicCm"
      },
      "outputs": [],
      "source": [
        "import random\n",
        "y=random.randint(1,100)\n",
        "guess=input(\"enter your guess\")\n",
        "x=int(guess)\n",
        "if x==y :\n",
        "  print(\"you are correct\")\n",
        "else:\n",
        "  while x!=y :\n",
        "    if x<y :\n",
        "      print(\"you are too low \")\n",
        "    else:\n",
        "      print(\"you are too high \")\n",
        "    guess=input(\"enter your guess again\")\n",
        "\n",
        "\n",
        "\n",
        "\n",
        "\n",
        "\n"
      ]
    }
  ]
}